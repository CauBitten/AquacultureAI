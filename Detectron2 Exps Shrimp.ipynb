{
 "cells": [
  {
   "cell_type": "code",
   "execution_count": null,
   "id": "51e567ba",
   "metadata": {},
   "outputs": [],
   "source": [
    "from PIL import Image\n",
    "from skimage import measure                       \n",
    "from shapely.geometry import Polygon, MultiPolygon \n",
    "import torch\n",
    "from torch.utils.data import DataLoader\n",
    "from tqdm import tqdm\n",
    "from Utils.training import iou_np\n",
    "from Utils.build_dataset import paths_dataset_shrimp\n",
    "from Utils.coco_dataset import get_annotations, create_sub_mask_annotation\n",
    "from torchvision import transforms\n",
    "from Utils.training import training_loop, predict, iou_np\n",
    "from detectron2.engine import DefaultTrainer, DefaultPredictor\n",
    "from detectron2.data import MetadataCatalog, DatasetCatalog\n",
    "from detectron2.utils.visualizer import Visualizer\n",
    "from detectron2.config import get_cfg\n",
    "from detectron2 import model_zoo\n",
    "import matplotlib.pyplot as plt\n",
    "import random\n",
    "import numpy as np\n",
    "import pandas as pd\n",
    "import time\n",
    "import cv2\n",
    "import os"
   ]
  },
  {
   "cell_type": "markdown",
   "id": "253d8a92",
   "metadata": {},
   "source": [
    "## Construindo o Dataset"
   ]
  },
  {
   "cell_type": "code",
   "execution_count": null,
   "id": "95fa3abd",
   "metadata": {},
   "outputs": [],
   "source": [
    "path = 'Dataset/Fish_Dataset/Fish_Dataset/Shrimp/'\n",
    "df_train_pd, df_valid_pd, df_test_pd = paths_dataset_shrimp(path)"
   ]
  },
  {
   "cell_type": "code",
   "execution_count": null,
   "id": "330f4726",
   "metadata": {},
   "outputs": [],
   "source": [
    "DatasetCatalog.register('shrimp_train', lambda: get_annotations(df_train_pd))\n",
    "MetadataCatalog.get('shrimp_train').set(thing_classes=['shrimp'])\n",
    "#fish_metadata = MetadataCatalog.get(\"fish_train\")"
   ]
  },
  {
   "cell_type": "code",
   "execution_count": null,
   "id": "4fb9211b",
   "metadata": {},
   "outputs": [],
   "source": [
    "DatasetCatalog.register('shrimp_valid', lambda: get_annotations(df_valid_pd))\n",
    "MetadataCatalog.get('shrimp_valid').set(thing_classes=['shrimp'])"
   ]
  },
  {
   "cell_type": "code",
   "execution_count": null,
   "id": "dcc7e82d",
   "metadata": {},
   "outputs": [],
   "source": [
    "DatasetCatalog.register('shrimp_test', lambda: get_annotations(df_test_pd))\n",
    "MetadataCatalog.get('shrimp_test').set(thing_classes=['shrimp'])"
   ]
  },
  {
   "cell_type": "markdown",
   "id": "73e9885e",
   "metadata": {},
   "source": [
    "## Treinando o Modelo"
   ]
  },
  {
   "cell_type": "code",
   "execution_count": null,
   "id": "838d2c91",
   "metadata": {},
   "outputs": [],
   "source": [
    "cfg = get_cfg()\n",
    "cfg.merge_from_file(model_zoo.get_config_file(\"COCO-InstanceSegmentation/mask_rcnn_R_50_FPN_3x.yaml\"))\n",
    "cfg.DATASETS.TRAIN = (\"shrimp_train\",)\n",
    "cfg.DATASETS.TEST = (\"shrimp_valid\",)\n",
    "cfg.DATALOADER.NUM_WORKERS = 2\n",
    "cfg.MODEL.WEIGHTS = model_zoo.get_checkpoint_url(\"COCO-InstanceSegmentation/mask_rcnn_R_50_FPN_3x.yaml\")  # Let training initialize from model zoo\n",
    "cfg.SOLVER.IMS_PER_BATCH = 2  # This is the real \"batch size\" commonly known to deep learning people\n",
    "cfg.SOLVER.BASE_LR = 0.0001  # pick a good LR\n",
    "cfg.SOLVER.MAX_ITER = 300    # 300 iterations seems good enough for this toy dataset; you will need to train longer for a practical dataset\n",
    "cfg.SOLVER.STEPS = []        # do not decay learning rate\n",
    "cfg.MODEL.ROI_HEADS.BATCH_SIZE_PER_IMAGE = 512   # The \"RoIHead batch size\". 128 is faster, and good enough for this toy dataset (default: 512)\n",
    "cfg.MODEL.ROI_HEADS.NUM_CLASSES = 1  # only has one class (ballon). (see https://detectron2.readthedocs.io/tutorials/datasets.html#update-the-config-for-new-datasets)"
   ]
  },
  {
   "cell_type": "code",
   "execution_count": null,
   "id": "881febc1",
   "metadata": {},
   "outputs": [],
   "source": [
    "exp_number = 1 #id do experimento, será usado para salvar o modelo com nome único\n",
    "n_exps = 30 #Quantidade de experimentos que serão executados\n",
    "path_metrics = 'Metrics' #Path da pasta onde será salvo o arquivo csv com as métricas\n",
    "iou_dict = {}"
   ]
  },
  {
   "cell_type": "code",
   "execution_count": null,
   "id": "3dc66419",
   "metadata": {},
   "outputs": [],
   "source": [
    "training_start_time = time.time()\n",
    "for n in range(exp_number, (n_exps + 1)):\n",
    "    cfg.OUTPUT_DIR = f'output_detectron2/exp_{n}'\n",
    "    os.makedirs(cfg.OUTPUT_DIR, exist_ok=True)\n",
    "    trainer = DefaultTrainer(cfg) \n",
    "    trainer.resume_or_load(resume=False)\n",
    "    trainer.train()\n",
    "    \n",
    "    cfg.MODEL.WEIGHTS = os.path.join(cfg.OUTPUT_DIR, \"model_final.pth\")\n",
    "    cfg.MODEL.ROI_HEADS.SCORE_THRESH_TEST = 0.4\n",
    "    predictor = DefaultPredictor(cfg)\n",
    "    \n",
    "    df_test = get_annotations(df_test_pd)\n",
    "    \n",
    "    iou_sum = 0\n",
    "    iou_list = []\n",
    "    for annon in df_test:\n",
    "        im = cv2.imread(annon['file_name'])\n",
    "        outputs = predictor(im)\n",
    "        try:\n",
    "            pred = outputs['instances'].pred_masks[0]\n",
    "            pred = pred.to('cpu')\n",
    "            pred_int = pred.long()\n",
    "            pred_np = pred_int.numpy()\n",
    "            iou_pred = iou_np(annon['mask'], pred_np)\n",
    "        except:\n",
    "            iou_pred = 0\n",
    "        iou_sum += iou_pred\n",
    "        iou_list.append(iou_pred)\n",
    "\n",
    "    iou = (iou_sum / len(df_test)) * 100\n",
    "    iou_dict[n] = iou\n",
    "\n",
    "print('Training finished, took {:.2f}s'.format(time.time() - training_start_time))\n",
    "duration = time.time() - training_start_time"
   ]
  },
  {
   "cell_type": "code",
   "execution_count": null,
   "id": "f5d9208e",
   "metadata": {},
   "outputs": [],
   "source": [
    "duration / (30*60)"
   ]
  },
  {
   "cell_type": "code",
   "execution_count": null,
   "id": "e9cb0b1c",
   "metadata": {},
   "outputs": [],
   "source": [
    "iou_list = []\n",
    "for value in iou_dict.values():\n",
    "    iou_list.append(value)"
   ]
  },
  {
   "cell_type": "code",
   "execution_count": null,
   "id": "fbcbe66f",
   "metadata": {},
   "outputs": [],
   "source": [
    "metrics_dict = {'iou': iou_list}\n",
    "df_metrics = pd.DataFrame(metrics_dict)\n",
    "df_metrics.shape\n",
    "df_metrics.head()"
   ]
  },
  {
   "cell_type": "code",
   "execution_count": null,
   "id": "815aca8f",
   "metadata": {},
   "outputs": [],
   "source": [
    "df_metrics['iou'].mean()"
   ]
  },
  {
   "cell_type": "code",
   "execution_count": null,
   "id": "1d87f901",
   "metadata": {},
   "outputs": [],
   "source": [
    "path_csv = f'{path_metrics}/metrics_detectron2_segmentation_shrimp.csv'\n",
    "df_metrics.to_csv(path_csv, sep='\\t')"
   ]
  }
 ],
 "metadata": {
  "kernelspec": {
   "display_name": "Python 3 (ipykernel)",
   "language": "python",
   "name": "python3"
  },
  "language_info": {
   "codemirror_mode": {
    "name": "ipython",
    "version": 3
   },
   "file_extension": ".py",
   "mimetype": "text/x-python",
   "name": "python",
   "nbconvert_exporter": "python",
   "pygments_lexer": "ipython3",
   "version": "3.9.18"
  }
 },
 "nbformat": 4,
 "nbformat_minor": 5
}
